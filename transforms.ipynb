{
 "cells": [
  {
   "cell_type": "markdown",
   "metadata": {},
   "source": [
    "Kyle Kraft ME 480 HW 5"
   ]
  },
  {
   "cell_type": "markdown",
   "metadata": {},
   "source": [
    "Setup Code"
   ]
  },
  {
   "cell_type": "code",
   "execution_count": 11,
   "metadata": {},
   "outputs": [],
   "source": [
    "from solid import *\n",
    "from solid.utils import *\n",
    "import viewscad\n",
    "import numpy as np\n",
    "import math\n",
    "\n",
    "r = viewscad.Renderer(openscad_exec='C:\\\\Program Files\\OpenSCAD\\openscad.exe')"
   ]
  },
  {
   "cell_type": "markdown",
   "metadata": {},
   "source": [
    "Part 1a"
   ]
  },
  {
   "cell_type": "code",
   "execution_count": 26,
   "metadata": {},
   "outputs": [
    {
     "data": {
      "application/vnd.jupyter.widget-view+json": {
       "model_id": "b45dd0bf3a0d4be8a3a15046078e5564",
       "version_major": 2,
       "version_minor": 0
      },
      "text/plain": [
       "VBox(children=(HTML(value=''), Renderer(background='#cccc88', background_opacity=0.0, camera=PerspectiveCamera…"
      ]
     },
     "metadata": {},
     "output_type": "display_data"
    }
   ],
   "source": [
    "c1 = cube(1,True)\n",
    "eulerang = [20,10,30]\n",
    "\n",
    "def eu2rot(eulerang):\n",
    "    Rotx = np.array([[1, 0, 0],\n",
    "                    [0, math.cos(eulerang[0]), -math.sin(eulerang[0])],\n",
    "                    [0, math.sin(eulerang[0]), math.cos(eulerang[0])]\n",
    "                    ])\n",
    "         \n",
    "         \n",
    "                     \n",
    "    Roty = np.array([[math.cos(eulerang[1]), 0, math.sin(eulerang[1])],\n",
    "                    [0, 1, 0],\n",
    "                    [-math.sin(eulerang[1]), 0, math.cos(eulerang[1])]\n",
    "                    ])\n",
    "                 \n",
    "    Rotz = np.array([[math.cos(eulerang[2]), -math.sin(eulerang[2]), 0],\n",
    "                    [math.sin(eulerang[2]), math.cos(eulerang[2]), 0],\n",
    "                    [0, 0, 1]\n",
    "                    ])\n",
    "                     \n",
    "                     \n",
    "    Rot = np.dot(Rotz, np.dot( Roty, Rotx ))\n",
    "    return Rot\n",
    "Rot = eu2rot(eulerang)\n",
    "c1 = multmatrix(Rot)(c1)\n",
    "r.render(c1)"
   ]
  },
  {
   "cell_type": "markdown",
   "metadata": {},
   "source": [
    "Part 1b"
   ]
  },
  {
   "cell_type": "code",
   "execution_count": 28,
   "metadata": {},
   "outputs": [
    {
     "data": {
      "application/vnd.jupyter.widget-view+json": {
       "model_id": "d64a01c6d2c840419a2177b8bcc1f93c",
       "version_major": 2,
       "version_minor": 0
      },
      "text/plain": [
       "VBox(children=(HTML(value=''), Renderer(background='#cccc88', background_opacity=0.0, camera=PerspectiveCamera…"
      ]
     },
     "metadata": {},
     "output_type": "display_data"
    }
   ],
   "source": [
    "c1 = cube(1,True)\n",
    "#c1 = forward(5)(c1)\n",
    "#c1 = right(5)(c1)\n",
    "c1 = translate([-5,-5,0])(c1)\n",
    "Rot = eu2rot(eulerang)\n",
    "c1 = multmatrix(Rot)(c1)\n",
    "c1 = translate([5,5,0])(c1)\n",
    "r.render(c1)"
   ]
  },
  {
   "cell_type": "markdown",
   "metadata": {},
   "source": [
    "Part 1c"
   ]
  },
  {
   "cell_type": "code",
   "execution_count": 35,
   "metadata": {},
   "outputs": [
    {
     "data": {
      "application/vnd.jupyter.widget-view+json": {
       "model_id": "2b1af2823c2245d6a830e682f88e1532",
       "version_major": 2,
       "version_minor": 0
      },
      "text/plain": [
       "VBox(children=(HTML(value=''), Renderer(background='#cccc88', background_opacity=0.0, camera=PerspectiveCamera…"
      ]
     },
     "metadata": {},
     "output_type": "display_data"
    },
    {
     "data": {
      "application/vnd.jupyter.widget-view+json": {
       "model_id": "04ff5cec74bf4009a6b38f5dcb3cfea6",
       "version_major": 2,
       "version_minor": 0
      },
      "text/plain": [
       "VBox(children=(HTML(value=''), Renderer(background='#cccc88', background_opacity=0.0, camera=PerspectiveCamera…"
      ]
     },
     "metadata": {},
     "output_type": "display_data"
    },
    {
     "data": {
      "application/vnd.jupyter.widget-view+json": {
       "model_id": "e8a3cb36a3f042e595af229f2fe94861",
       "version_major": 2,
       "version_minor": 0
      },
      "text/plain": [
       "VBox(children=(HTML(value=''), Renderer(background='#cccc88', background_opacity=0.0, camera=PerspectiveCamera…"
      ]
     },
     "metadata": {},
     "output_type": "display_data"
    }
   ],
   "source": [
    "c1 = cube(1,True)\n",
    "b = .5\n",
    "Sx = np.array([ [1,b,0,0],\n",
    "                [0,1,0,0],\n",
    "                [0,0,1,0],\n",
    "                [0,0,0,1]\n",
    "              ])\n",
    "Sy = np.array([ [1,0,0,0],\n",
    "                [b,1,0,0],\n",
    "                [0,0,1,0],\n",
    "                [0,0,0,1]\n",
    "              ])\n",
    "Sz = np.array([ [1,0,b,0],\n",
    "                [0,1,0,0],\n",
    "                [0,0,1,0],\n",
    "                [0,0,0,1]\n",
    "              ])\n",
    "\n",
    "c1x = multmatrix(Sx)(c1)\n",
    "c1y = multmatrix(Sy)(c1x)\n",
    "c1z = multmatrix(Sz)(c1y)\n",
    "r.render(c1x)\n",
    "r.render(c1y)\n",
    "r.render(c1z)"
   ]
  },
  {
   "cell_type": "code",
   "execution_count": null,
   "metadata": {},
   "outputs": [],
   "source": []
  }
 ],
 "metadata": {
  "kernelspec": {
   "display_name": "Python 3",
   "language": "python",
   "name": "python3"
  },
  "language_info": {
   "codemirror_mode": {
    "name": "ipython",
    "version": 3
   },
   "file_extension": ".py",
   "mimetype": "text/x-python",
   "name": "python",
   "nbconvert_exporter": "python",
   "pygments_lexer": "ipython3",
   "version": "3.7.4"
  }
 },
 "nbformat": 4,
 "nbformat_minor": 2
}
