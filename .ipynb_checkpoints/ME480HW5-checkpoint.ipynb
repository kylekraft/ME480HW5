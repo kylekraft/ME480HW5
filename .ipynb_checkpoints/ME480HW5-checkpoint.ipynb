{
 "cells": [
  {
   "cell_type": "markdown",
   "metadata": {},
   "source": [
    "Kyle Kraft\n",
    "ME 480 HW5"
   ]
  },
  {
   "cell_type": "markdown",
   "metadata": {},
   "source": [
    "Setup Code"
   ]
  },
  {
   "cell_type": "code",
   "execution_count": 1,
   "metadata": {},
   "outputs": [],
   "source": [
    "from solid import *\n",
    "from solid.utils import *\n",
    "import viewscad\n",
    "\n",
    "r = viewscad.Renderer(openscad_exec='C:\\\\Program Files\\OpenSCAD\\openscad.exe')"
   ]
  },
  {
   "cell_type": "markdown",
   "metadata": {},
   "source": [
    "Part 1a --> also Part 2a"
   ]
  },
  {
   "cell_type": "code",
   "execution_count": 89,
   "metadata": {},
   "outputs": [
    {
     "data": {
      "application/vnd.jupyter.widget-view+json": {
       "model_id": "a7b7194bf3664ce8b3d2205540ac4cfb",
       "version_major": 2,
       "version_minor": 0
      },
      "text/plain": [
       "VBox(children=(HTML(value=''), Renderer(background='#cccc88', background_opacity=0.0, camera=PerspectiveCamera…"
      ]
     },
     "metadata": {},
     "output_type": "display_data"
    }
   ],
   "source": [
    "#OD = 10\n",
    "#ID = 5\n",
    "OR = 10\n",
    "IR = 5\n",
    "c1 = cylinder(r=OR,h=10)\n",
    "c2 = cylinder(r=IR,h=10)\n",
    "c3 = c1 - c2\n",
    "r.render(c3)"
   ]
  },
  {
   "cell_type": "markdown",
   "metadata": {},
   "source": [
    "Part 1b"
   ]
  },
  {
   "cell_type": "code",
   "execution_count": 30,
   "metadata": {},
   "outputs": [],
   "source": [
    "def cylinderhole(OD, ID):\n",
    "    c1 = cylinder(r=OD,h=10)\n",
    "    c2 = cylinder(r=ID,h=10)\n",
    "    c3 = c1 - c2\n",
    "    r.render(c3)"
   ]
  },
  {
   "cell_type": "code",
   "execution_count": 31,
   "metadata": {},
   "outputs": [
    {
     "data": {
      "application/vnd.jupyter.widget-view+json": {
       "model_id": "b49af796ed834b3bb1d63bc6ad7f3f7d",
       "version_major": 2,
       "version_minor": 0
      },
      "text/plain": [
       "VBox(children=(HTML(value=''), Renderer(background='#cccc88', background_opacity=0.0, camera=PerspectiveCamera…"
      ]
     },
     "metadata": {},
     "output_type": "display_data"
    }
   ],
   "source": [
    "cylinderhole(9,1)"
   ]
  },
  {
   "cell_type": "markdown",
   "metadata": {},
   "source": [
    "Part 1c"
   ]
  },
  {
   "cell_type": "code",
   "execution_count": 59,
   "metadata": {},
   "outputs": [],
   "source": [
    "def twocylwiththk (ID1, ID2, THK):\n",
    "    c1a = cylinder(r = THK + ID1/2, h = 10)\n",
    "    c1b = cylinder(r = ID1/2, h = 10)\n",
    "    c1 = c1a - c1b\n",
    "    \n",
    "    c2a = cylinder(r = THK + ID2/2, h = 10)\n",
    "    c2b = cylinder(r = ID2/2 , h = 10)\n",
    "    c2 = c2a - c2b\n",
    "    c2 = right((ID2/2) + THK + (ID1/2)) (c2)\n",
    "    c2 = forward((ID1/2) - (ID2/2)) (c2)\n",
    "    \n",
    "    r.render(c1 + c2)"
   ]
  },
  {
   "cell_type": "code",
   "execution_count": 60,
   "metadata": {},
   "outputs": [
    {
     "data": {
      "application/vnd.jupyter.widget-view+json": {
       "model_id": "3305fd76a47846c8864b5b1cbe3ee95e",
       "version_major": 2,
       "version_minor": 0
      },
      "text/plain": [
       "VBox(children=(HTML(value=''), Renderer(background='#cccc88', background_opacity=0.0, camera=PerspectiveCamera…"
      ]
     },
     "metadata": {},
     "output_type": "display_data"
    }
   ],
   "source": [
    "twocylwiththk(7,3,2)"
   ]
  },
  {
   "cell_type": "markdown",
   "metadata": {},
   "source": [
    "Part 2b"
   ]
  },
  {
   "cell_type": "code",
   "execution_count": 87,
   "metadata": {},
   "outputs": [],
   "source": [
    "def posts(dias, sep, height):\n",
    "    current = 0\n",
    "    for i in range(len(dias)):\n",
    "        rads = [x/2 for x in dias]\n",
    "        new = cylinder(rads[i],height)\n",
    "        new = right(sep*(i))(new)\n",
    "        current = current + new\n",
    "    hulla = cylinder(max(rads),4)\n",
    "    hullb = right(sep*(len(dias)-1))(hulla)\n",
    "    base = hull()(hulla,hullb)\n",
    "    \n",
    "    r.render(current+base)"
   ]
  },
  {
   "cell_type": "code",
   "execution_count": 88,
   "metadata": {},
   "outputs": [
    {
     "data": {
      "application/vnd.jupyter.widget-view+json": {
       "model_id": "3bc1b89349e94228a3748805fc2b97ea",
       "version_major": 2,
       "version_minor": 0
      },
      "text/plain": [
       "VBox(children=(HTML(value=''), Renderer(background='#cccc88', background_opacity=0.0, camera=PerspectiveCamera…"
      ]
     },
     "metadata": {},
     "output_type": "display_data"
    }
   ],
   "source": [
    "dias = [2,3,2,2,5]\n",
    "sep = 10\n",
    "height = 10\n",
    "posts(dias, sep, height)"
   ]
  },
  {
   "cell_type": "code",
   "execution_count": null,
   "metadata": {},
   "outputs": [],
   "source": []
  },
  {
   "cell_type": "code",
   "execution_count": null,
   "metadata": {},
   "outputs": [],
   "source": []
  }
 ],
 "metadata": {
  "kernelspec": {
   "display_name": "Python 3",
   "language": "python",
   "name": "python3"
  },
  "language_info": {
   "codemirror_mode": {
    "name": "ipython",
    "version": 3
   },
   "file_extension": ".py",
   "mimetype": "text/x-python",
   "name": "python",
   "nbconvert_exporter": "python",
   "pygments_lexer": "ipython3",
   "version": "3.7.4"
  }
 },
 "nbformat": 4,
 "nbformat_minor": 2
}
