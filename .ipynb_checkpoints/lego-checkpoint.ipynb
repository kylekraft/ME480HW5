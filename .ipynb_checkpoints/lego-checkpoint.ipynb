{
 "cells": [
  {
   "cell_type": "markdown",
   "metadata": {},
   "source": [
    "Kyle Kraft ME 480 HW 5"
   ]
  },
  {
   "cell_type": "markdown",
   "metadata": {},
   "source": [
    "Setup Code"
   ]
  },
  {
   "cell_type": "code",
   "execution_count": 36,
   "metadata": {},
   "outputs": [],
   "source": [
    "from solid import *\n",
    "from solid.utils import *\n",
    "import viewscad\n",
    "import numpy as np\n",
    "\n",
    "r = viewscad.Renderer(openscad_exec='C:\\\\Program Files\\OpenSCAD\\openscad.exe')"
   ]
  },
  {
   "cell_type": "markdown",
   "metadata": {},
   "source": [
    "Part 1"
   ]
  },
  {
   "cell_type": "code",
   "execution_count": 21,
   "metadata": {},
   "outputs": [],
   "source": [
    "def techbeam(x,y):\n",
    "    Lc2c = 8*(x-1) #center to center length\n",
    "    Wc2c = 8*(y-1) #center to center width\n",
    "    h = 7.76\n",
    "    rad = 7.38/2 #rad of outside of ends of beam\n",
    "    innerrad = 5/2\n",
    "    x0y0 = cylinder(rad,h)\n",
    "    x1y0 = translate([Lc2c,0,0])(x0y0)\n",
    "    x0y1 = translate([0,Wc2c,0])(x0y0)\n",
    "    x1y1 = translate([Lc2c,Wc2c,0])(x0y0)\n",
    "    beam = hull()(x0y0,x1y0,x0y1,x1y1)\n",
    "    hole = cylinder(innerrad,h)\n",
    "    holes = 0\n",
    "    for i in range(x):\n",
    "        for j in range(y):\n",
    "            #print(i,j)\n",
    "            holes = holes + translate([i*8,j*8,0])(hole)\n",
    "    beam = beam - holes\n",
    "    r.render(beam)"
   ]
  },
  {
   "cell_type": "code",
   "execution_count": 27,
   "metadata": {},
   "outputs": [
    {
     "data": {
      "application/vnd.jupyter.widget-view+json": {
       "model_id": "02b5af0be7d245da8c079a2f45bc953f",
       "version_major": 2,
       "version_minor": 0
      },
      "text/plain": [
       "VBox(children=(HTML(value=''), Renderer(background='#cccc88', background_opacity=0.0, camera=PerspectiveCamera…"
      ]
     },
     "metadata": {},
     "output_type": "display_data"
    }
   ],
   "source": [
    "techbeam(2,3)"
   ]
  },
  {
   "cell_type": "markdown",
   "metadata": {},
   "source": [
    "BONUS!! for part 1)"
   ]
  },
  {
   "cell_type": "code",
   "execution_count": 52,
   "metadata": {},
   "outputs": [],
   "source": [
    "def techbeambonus(x,y,crossedholes):\n",
    "    Lc2c = 8*(x-1) #center to center length\n",
    "    Wc2c = 8*(y-1) #center to center width\n",
    "    h = 7.76\n",
    "    rad = 7.38/2 #rad of outside of ends of beam\n",
    "    innerrad = 5/2\n",
    "    x0y0 = cylinder(rad,h)\n",
    "    x1y0 = translate([Lc2c,0,0])(x0y0)\n",
    "    x0y1 = translate([0,Wc2c,0])(x0y0)\n",
    "    x1y1 = translate([Lc2c,Wc2c,0])(x0y0)\n",
    "    beam = hull()(x0y0,x1y0,x0y1,x1y1)\n",
    "    hole = cylinder(innerrad,h)\n",
    "    crosshole = cube([5,2,h+.1],True) + cube([2,5,h+.1],True)\n",
    "    holes = 0\n",
    "    for i in range(x):\n",
    "        for j in range(y):\n",
    "            #print(i,j)\n",
    "            if crossedholes[i,j] == 0:\n",
    "                holes = holes + translate([i*8,j*8,0])(hole)\n",
    "            if crossedholes[i,j] == 1:\n",
    "                holes = holes + translate([i*8,j*8,h/2])(crosshole)\n",
    "    beam = beam - holes\n",
    "    r.render(beam)"
   ]
  },
  {
   "cell_type": "code",
   "execution_count": 54,
   "metadata": {},
   "outputs": [
    {
     "data": {
      "application/vnd.jupyter.widget-view+json": {
       "model_id": "3797057feceb46889e4c3970d4026202",
       "version_major": 2,
       "version_minor": 0
      },
      "text/plain": [
       "VBox(children=(HTML(value=''), Renderer(background='#cccc88', background_opacity=0.0, camera=PerspectiveCamera…"
      ]
     },
     "metadata": {},
     "output_type": "display_data"
    }
   ],
   "source": [
    "crossedholes = np.array([[0,0,1,0,0], #schematic of beam with hole types\n",
    "                         [0,0,0,1,1]]) #0 means normal hole, 1 means crossed hole\n",
    "techbeambonus(2,5,crossedholes)"
   ]
  },
  {
   "cell_type": "markdown",
   "metadata": {},
   "source": [
    "Part 2"
   ]
  },
  {
   "cell_type": "code",
   "execution_count": 134,
   "metadata": {},
   "outputs": [],
   "source": [
    "#define a table of nema specs\n",
    "#each line is a motor size\n",
    "#a line is [NEMA size, bolt hole dist, shaft dia, pilot dia, bolt size]\n",
    "#all dimensions in mm\n",
    "nematable = np.array([[8, 16, 4, 15, 3],\n",
    "                      [11, 23, 5, 22, 4],\n",
    "                      [14, 26, 5, 22, 4],\n",
    "                      [17, 31, 5, 22, 3.26],\n",
    "                      [23, 47.14, 6.35, 38.1, 5],\n",
    "                      [34, 69.7, 9.5, 73, 5.5],\n",
    "                      [42, 88.9, 16, 55.5, 7.14]])\n",
    "\n",
    "def nemamount(nema):\n",
    "    if nema == 8:\n",
    "        line = 0\n",
    "    elif nema == 11:\n",
    "        line = 1\n",
    "    elif nema == 14:\n",
    "        line = 2\n",
    "    elif nema == 17:\n",
    "        line = 3\n",
    "    elif nema == 23:\n",
    "        line = 4\n",
    "    elif nema == 34:\n",
    "        line = 5\n",
    "    elif nema == 42:\n",
    "        line = 6\n",
    "    #print(line)\n",
    "    bhc2c = nematable[line,1] #bolt hole center to center dist\n",
    "    shaft = nematable[line,2] #shaft dia\n",
    "    pilot = 1 + nematable[line,3] #pilot dia plus a little margin\n",
    "    bhdia = nematable[line,4] #bolt hole size\n",
    "    \n",
    "    #making base\n",
    "    h = 7\n",
    "    outerrad = bhdia/2 + 3\n",
    "    x0y0 = cylinder(outerrad,h)\n",
    "    x1y0 = translate([bhc2c,0,0])(x0y0)\n",
    "    x0y1 = translate([0,bhc2c,0])(x0y0)\n",
    "    x1y1 = translate([bhc2c,bhc2c,0])(x0y0)\n",
    "    boss = hull()(x0y0,x1y0,x0y1,x1y1)\n",
    "    #making pilot hole\n",
    "    pilot = translate([bhc2c/2,bhc2c/2,0])(cylinder(pilot/2,h))\n",
    "    #making bolt holes\n",
    "    hole = cylinder(bhdia/2,h)\n",
    "    holes = hole\n",
    "    holes = holes + translate([bhc2c,0,0])(hole)\n",
    "    holes = holes + translate([0,bhc2c,0])(hole)\n",
    "    holes = holes + translate([bhc2c,bhc2c,0])(hole)\n",
    "    #making technic mounting posts\n",
    "    post = translate([0,0,h/2])(rotate(90,[0,1,0])(cylinder(4.8/2,7.76)))\n",
    "    posts = translate([-outerrad-7,0,0])(post)\n",
    "    #adding a second post if space permits: fits on all but NEMA 11\n",
    "    if nema != 11:\n",
    "        posts = posts + translate([0,8,0])(posts)\n",
    "    #need a coord transform to use mirror function for posts\n",
    "    posts = translate([-bhc2c/2,-bhc2c/2,0])(posts)\n",
    "    posts = posts + mirror([1,0,0])(posts)\n",
    "    posts = posts + mirror([0,1,0])(posts)\n",
    "    posts = translate([bhc2c/2,bhc2c/2,0])(posts)\n",
    "    #coord transform undone for posts\n",
    "    final = boss - pilot - holes + posts\n",
    "    r.render(final)"
   ]
  },
  {
   "cell_type": "code",
   "execution_count": 135,
   "metadata": {},
   "outputs": [
    {
     "data": {
      "application/vnd.jupyter.widget-view+json": {
       "model_id": "18cf9620687442cbadd9d611925bb0cf",
       "version_major": 2,
       "version_minor": 0
      },
      "text/plain": [
       "VBox(children=(HTML(value=''), Renderer(background='#cccc88', background_opacity=0.0, camera=PerspectiveCamera…"
      ]
     },
     "metadata": {},
     "output_type": "display_data"
    }
   ],
   "source": [
    "nemamount(34)\n"
   ]
  },
  {
   "cell_type": "markdown",
   "metadata": {},
   "source": [
    "Part 3"
   ]
  },
  {
   "cell_type": "code",
   "execution_count": null,
   "metadata": {},
   "outputs": [],
   "source": [
    "def shaftadapter(size):\n",
    "    "
   ]
  }
 ],
 "metadata": {
  "kernelspec": {
   "display_name": "Python 3",
   "language": "python",
   "name": "python3"
  },
  "language_info": {
   "codemirror_mode": {
    "name": "ipython",
    "version": 3
   },
   "file_extension": ".py",
   "mimetype": "text/x-python",
   "name": "python",
   "nbconvert_exporter": "python",
   "pygments_lexer": "ipython3",
   "version": "3.7.4"
  }
 },
 "nbformat": 4,
 "nbformat_minor": 2
}
